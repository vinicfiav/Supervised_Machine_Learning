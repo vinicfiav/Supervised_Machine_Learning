{
  "nbformat": 4,
  "nbformat_minor": 0,
  "metadata": {
    "colab": {
      "provenance": []
    },
    "kernelspec": {
      "name": "python3",
      "display_name": "Python 3"
    },
    "language_info": {
      "name": "python"
    }
  },
  "cells": [
    {
      "cell_type": "markdown",
      "source": [
        "1. Carregue o conjunto de dados [Resistência à Compressão do Concreto](https://archive.ics.uci.edu/dataset/165/concrete+compressive+strength) do *UC Irvine Machine Learning Repository*. Este conjunto de dados contém informações sobre a composição e propriedades do concreto:\n",
        "\n",
        "- **Variável alvo:** Resistência à compressão (MPa)  \n",
        "- **Número de amostras:** 1.030  \n",
        "- **Número de atributos:** 8 (todos numéricos)  \n",
        "\n",
        "Este conjunto de dados pode ser carregado utilizando:\n",
        "```python\n",
        "from ucimlrepo import fetch_ucirepo\n",
        "# carregar os dados\n",
        "concrete_compressive_strength = fetch_ucirepo(id=165)\n",
        "# dataframes do Pandas\n",
        "X = concrete_compressive_strength.data.features\n",
        "y = concrete_compressive_strength.data.targets\n",
        "```\n"
      ],
      "metadata": {
        "id": "8cMlfFHJQwNt"
      }
    },
    {
      "cell_type": "code",
      "source": [
        "pip install ucimlrepo"
      ],
      "metadata": {
        "colab": {
          "base_uri": "https://localhost:8080/"
        },
        "id": "Iz8B3NhnFyGX",
        "outputId": "b95c45d4-3714-4258-fdee-6f0223f198d9"
      },
      "execution_count": 1,
      "outputs": [
        {
          "output_type": "stream",
          "name": "stdout",
          "text": [
            "Collecting ucimlrepo\n",
            "  Downloading ucimlrepo-0.0.7-py3-none-any.whl.metadata (5.5 kB)\n",
            "Requirement already satisfied: pandas>=1.0.0 in /usr/local/lib/python3.12/dist-packages (from ucimlrepo) (2.2.2)\n",
            "Requirement already satisfied: certifi>=2020.12.5 in /usr/local/lib/python3.12/dist-packages (from ucimlrepo) (2025.10.5)\n",
            "Requirement already satisfied: numpy>=1.26.0 in /usr/local/lib/python3.12/dist-packages (from pandas>=1.0.0->ucimlrepo) (2.0.2)\n",
            "Requirement already satisfied: python-dateutil>=2.8.2 in /usr/local/lib/python3.12/dist-packages (from pandas>=1.0.0->ucimlrepo) (2.9.0.post0)\n",
            "Requirement already satisfied: pytz>=2020.1 in /usr/local/lib/python3.12/dist-packages (from pandas>=1.0.0->ucimlrepo) (2025.2)\n",
            "Requirement already satisfied: tzdata>=2022.7 in /usr/local/lib/python3.12/dist-packages (from pandas>=1.0.0->ucimlrepo) (2025.2)\n",
            "Requirement already satisfied: six>=1.5 in /usr/local/lib/python3.12/dist-packages (from python-dateutil>=2.8.2->pandas>=1.0.0->ucimlrepo) (1.17.0)\n",
            "Downloading ucimlrepo-0.0.7-py3-none-any.whl (8.0 kB)\n",
            "Installing collected packages: ucimlrepo\n",
            "Successfully installed ucimlrepo-0.0.7\n"
          ]
        }
      ]
    },
    {
      "cell_type": "code",
      "execution_count": 2,
      "metadata": {
        "id": "5olmJp3Feh_x"
      },
      "outputs": [],
      "source": [
        "import matplotlib.pyplot as plt                                       # Biblioteca de visualização: cria gráficos/figuras; convenção usar o alias 'plt'.\n",
        "import numpy as np                                                    # Operações numéricas e vetoriais; arrays N-d e funções matemáticas.\n",
        "from sklearn.linear_model import LinearRegression                     # Modelo de Regressão Linear do scikit-learn.\n",
        "from sklearn.preprocessing import PolynomialFeatures, StandardScaler  # Gera termos polinomiais e padroniza features (z-score).\n",
        "from sklearn.model_selection import train_test_split                  # Divide o conjunto de dados.\n",
        "from sklearn.metrics import mean_squared_error                        # Erro Quadrático Médio (MSE).\n",
        "from ucimlrepo import fetch_ucirepo                                   # Função utilitária para baixar datasets do UCI ML Repository."
      ]
    },
    {
      "cell_type": "code",
      "execution_count": 3,
      "metadata": {
        "id": "uzCR-xgDFQvL"
      },
      "outputs": [],
      "source": [
        "from ucimlrepo import fetch_ucirepo\n",
        "# carregar os dados\n",
        "concrete_compressive_strength = fetch_ucirepo(id=165)\n",
        "# dataframes do Pandas\n",
        "X = concrete_compressive_strength.data.features\n",
        "y = concrete_compressive_strength.data.targets"
      ]
    },
    {
      "cell_type": "markdown",
      "source": [
        "2. Divida os dados em três partes:\n",
        "\n",
        "- Treinamento: 60%\n",
        "- Validação: 20%\n",
        "- Teste: 20%\n"
      ],
      "metadata": {
        "id": "6AfR92nPQ3zS"
      }
    },
    {
      "cell_type": "markdown",
      "source": [
        "## Separar em treino(60%), validação(20%) e teste(20%)"
      ],
      "metadata": {
        "id": "DEAPfJ-yNxQY"
      }
    },
    {
      "cell_type": "code",
      "source": [
        "from sklearn.model_selection import train_test_split #Divide o Conjunto de Dados\n",
        "\n",
        "X_train, X_temp, y_train, y_temp = train_test_split(X, y, test_size=0.40, random_state=42)\n",
        "X_validation, X_test, y_validation, y_test = train_test_split(X_temp, y_temp, test_size=0.50, random_state=42)"
      ],
      "metadata": {
        "id": "XLoWP80PQ9fa"
      },
      "execution_count": 4,
      "outputs": []
    },
    {
      "cell_type": "markdown",
      "source": [
        "## Usando o StandardScaler no conjunto treino"
      ],
      "metadata": {
        "id": "xIl-gCsKNnwo"
      }
    },
    {
      "cell_type": "code",
      "source": [
        "scaler = StandardScaler()\n",
        "scaler.fit_transform(X_train)"
      ],
      "metadata": {
        "colab": {
          "base_uri": "https://localhost:8080/"
        },
        "id": "_zXi0b3EKyXd",
        "outputId": "f2a0c224-b11d-4cbb-d2ca-fdfca01ecdca"
      },
      "execution_count": 5,
      "outputs": [
        {
          "output_type": "execute_result",
          "data": {
            "text/plain": [
              "array([[ 0.27051894,  2.09412082, -0.8028862 , ...,  0.94755187,\n",
              "        -1.9780896 ,  0.15190854],\n",
              "       [ 0.32180423,  1.53420666, -0.8028862 , ..., -1.5802778 ,\n",
              "         1.38653034,  0.71531417],\n",
              "       [ 0.89246959,  0.21046593, -0.8028862 , ..., -0.54345239,\n",
              "        -2.20106143,  5.12597538],\n",
              "       ...,\n",
              "       [-0.87640654, -0.85979253,  1.17223789, ...,  1.36409875,\n",
              "         0.36561997,  0.8601899 ],\n",
              "       [ 1.77830635,  0.47859384, -0.8028862 , ..., -1.5802778 ,\n",
              "         0.14765874, -0.29881597],\n",
              "       [ 0.27704616, -0.85979253,  0.97977373, ..., -0.63428815,\n",
              "         0.1664485 , -0.29881597]])"
            ]
          },
          "metadata": {},
          "execution_count": 5
        }
      ]
    },
    {
      "cell_type": "markdown",
      "source": [
        "3. Treine modelos de regressão polinomial com graus 1, 2, 3 e 4.\n",
        "\n",
        " - Calcule o Erro Quadrático Médio (MSE) no conjunto de validação para cada grau e selecione aquele com menor erro.\n",
        "\n",
        " - Retreine o modelo final utilizando os dados de treinamento + validação com o grau selecionado.\n",
        "\n",
        " - Avalie o modelo final no conjunto de teste e compute o MSE de teste.\n",
        "\n",
        "  - Dica: Utilize [`PolynomialFeatures(degree=d)`](https://scikit-learn.org/stable/modules/generated/sklearn.preprocessing.PolynomialFeatures.html), [`StandardScaler()`](https://scikit-learn.org/stable/modules/generated/sklearn.preprocessing.StandardScaler.html), [`LinearRegression()`](https://scikit-learn.org/stable/modules/generated/sklearn.linear_model.LinearRegression.html) e [`mean_squared_error()`](https://scikit-learn.org/stable/modules/generated/sklearn.metrics.mean_squared_error.html).\n"
      ],
      "metadata": {
        "id": "PkFa5NCjQ8Vx"
      }
    },
    {
      "cell_type": "markdown",
      "source": [
        "## Treinando o modelo de regressão polinomial com graus 1, 2, 3 e 4; calculando o Erro quadrático mério e selecionando o com o menor erro."
      ],
      "metadata": {
        "id": "9Qck8KiCJDKJ"
      }
    },
    {
      "cell_type": "code",
      "source": [
        "from sklearn.linear_model import LinearRegression                     # Modelo de Regressão Linear do scikit-learn.\n",
        "\n",
        "for i in range(1, 5):\n",
        "    lin_reg = LinearRegression()\n",
        "    poly_features = PolynomialFeatures(degree=i, include_bias=False)\n",
        "    X_poly_train = poly_features.fit_transform(X_train)\n",
        "    X_poly_validation = poly_features.fit_transform(X_validation)\n",
        "    lin_reg.fit(X_poly_train, y_train)\n",
        "    y_predict = lin_reg.predict(X_poly_validation)\n",
        "    MSE = mean_squared_error(y_validation, y_predict)\n",
        "    print(\"MSE para o grau: \" + str(i))\n",
        "    print(MSE)\n",
        "    print(\"\\n\")\n"
      ],
      "metadata": {
        "colab": {
          "base_uri": "https://localhost:8080/"
        },
        "id": "3g8gtL860mjO",
        "outputId": "4292b66b-1111-4d78-8678-401a9e2bdad1"
      },
      "execution_count": 6,
      "outputs": [
        {
          "output_type": "stream",
          "name": "stdout",
          "text": [
            "MSE para o grau: 1\n",
            "114.38470630338527\n",
            "\n",
            "\n",
            "MSE para o grau: 2\n",
            "61.950069371539826\n",
            "\n",
            "\n",
            "MSE para o grau: 3\n",
            "49.10243549577568\n",
            "\n",
            "\n",
            "MSE para o grau: 4\n",
            "931780.3981136507\n",
            "\n",
            "\n"
          ]
        }
      ]
    },
    {
      "cell_type": "markdown",
      "source": [
        "## Retreine o modelo final utilizando os dados de treinamento + validação com o grau selecionado."
      ],
      "metadata": {
        "id": "K35B_KRbOGja"
      }
    },
    {
      "cell_type": "code",
      "source": [
        "X_train.merge(X_validation)\n",
        "y_train.merge(y_validation)\n",
        "poly_features = PolynomialFeatures(degree=3, include_bias=False)\n",
        "X_poly_train = poly_features.fit_transform(X_train)\n",
        "X_poly_test = poly_features.fit_transform(X_test)\n",
        "lin_reg.fit(X_poly_train, y_train)\n",
        "y_predict = lin_reg.predict(X_poly_test)\n",
        "MSE = mean_squared_error(y_test, y_predict)\n",
        "print(\"MSE para o grau: 3 com o conjunto de teste\")\n",
        "print(MSE)\n",
        "print(\"\\n\")"
      ],
      "metadata": {
        "colab": {
          "base_uri": "https://localhost:8080/"
        },
        "id": "uG4A6UGOyDM0",
        "outputId": "5eb296d5-fb09-487c-c7b6-a969599151f8"
      },
      "execution_count": 7,
      "outputs": [
        {
          "output_type": "stream",
          "name": "stdout",
          "text": [
            "MSE para o grau: 3 com o conjunto de teste\n",
            "93.12479155394358\n",
            "\n",
            "\n"
          ]
        }
      ]
    }
  ]
}